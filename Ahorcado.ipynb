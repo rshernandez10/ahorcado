{
  "nbformat": 4,
  "nbformat_minor": 0,
  "metadata": {
    "colab": {
      "name": "Untitled5.ipynb",
      "provenance": [],
      "authorship_tag": "ABX9TyNu/jinK2ENv4fzBEx8d6D8",
      "include_colab_link": true
    },
    "kernelspec": {
      "name": "python3",
      "display_name": "Python 3"
    }
  },
  "cells": [
    {
      "cell_type": "markdown",
      "metadata": {
        "id": "view-in-github",
        "colab_type": "text"
      },
      "source": [
        "<a href=\"https://colab.research.google.com/github/rshernandez10/ahorcado/blob/master/Ahorcado.ipynb\" target=\"_parent\"><img src=\"https://colab.research.google.com/assets/colab-badge.svg\" alt=\"Open In Colab\"/></a>"
      ]
    },
    {
      "cell_type": "code",
      "metadata": {
        "id": "wj2JCxgLpbBl",
        "colab_type": "code",
        "colab": {}
      },
      "source": [
        "import random\n",
        "import os\n",
        "\n",
        "palabras = [\"COMPUTADORA\" , \"BALONES\" , \"AUDIFONO\", \"TECLADO\", \"ESCRITORIO\", \"GOLAZO\", \"NETFLIX\"\n",
        "\"AHORCADO\", \"BICICLETA\", \"ATINADO\", \"TELESCOPIO\"]\n",
        "\n"
      ],
      "execution_count": 0,
      "outputs": []
    }
  ]
}