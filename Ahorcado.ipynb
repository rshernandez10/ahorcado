{
  "nbformat": 4,
  "nbformat_minor": 0,
  "metadata": {
    "colab": {
      "name": "Untitled5.ipynb",
      "provenance": [],
      "authorship_tag": "ABX9TyNKdi3Nly1Ejp43EFps1Z/u",
      "include_colab_link": true
    },
    "kernelspec": {
      "name": "python3",
      "display_name": "Python 3"
    }
  },
  "cells": [
    {
      "cell_type": "markdown",
      "metadata": {
        "id": "view-in-github",
        "colab_type": "text"
      },
      "source": [
        "<a href=\"https://colab.research.google.com/github/rshernandez10/ahorcado/blob/master/Ahorcado.ipynb\" target=\"_parent\"><img src=\"https://colab.research.google.com/assets/colab-badge.svg\" alt=\"Open In Colab\"/></a>"
      ]
    },
    {
      "cell_type": "code",
      "metadata": {
        "id": "wj2JCxgLpbBl",
        "colab_type": "code",
        "colab": {}
      },
      "source": [
        "import random\n",
        "import os\n",
        "\n",
        "palabras = [\"COMPUTADORA\" , \"BALONES\" , \"AUDIFONO\", \"TECLADO\", \"ESCRITORIO\", \"GOLAZO\", \"NETFLIX\"\n",
        "\"AHORCADO\", \"BICICLETA\", \"ATINADO\", \"TELESCOPIO\"]\n",
        "\n",
        "palabras = list(random.choice(palabras))\n",
        "\n",
        "horca = [\"          !=======|\", #cuelga\n",
        "         \"                  |\", #cabeza \n",
        "         \"                  |\", #brazos\n",
        "         \"                  |\", #cuerppo\n",
        "         \"                  |\", #piernas\n",
        "         \"__________________|\"] #piso\n",
        "\n",
        "figura = [\"         !=======|\", #cuelga\n",
        "         \"          x       |\", #cabeza \n",
        "         \"        / | \\     |\", #brazos\n",
        "         \"          |       |\", #cuerPo\n",
        "         \"         / \\      |\", #piernas\n",
        "         \"__________________|\"] #piso\n",
        "\n",
        "letras = []\n",
        "error = 1\n",
        "\n",
        "resultado = []\n",
        "\n",
        "for i in range(len(palabra));\n",
        "  resultado.append(\"_\")\n",
        "\n",
        "while True:\n",
        "\n",
        "  os.system(\"cls\")\n",
        "\n",
        "  \n"
      ],
      "execution_count": 0,
      "outputs": []
    },
    {
      "cell_type": "code",
      "metadata": {
        "id": "ZJFnt7BcrLp8",
        "colab_type": "code",
        "colab": {
          "base_uri": "https://localhost:8080/",
          "height": 54
        },
        "outputId": "8c73e470-017f-42a9-c983-c739c689bb3d"
      },
      "source": [
        "print (palabras)"
      ],
      "execution_count": 4,
      "outputs": [
        {
          "output_type": "stream",
          "text": [
            "['COMPUTADORA', 'BALONES', 'AUDIFONO', 'TECLADO', 'ESCRITORIO', 'GOLAZO', 'NETFLIXAHORCADO', 'BICICLETA', 'ATINADO', 'TELESCOPIO']\n"
          ],
          "name": "stdout"
        }
      ]
    }
  ]
}